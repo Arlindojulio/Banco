{
  "nbformat": 4,
  "nbformat_minor": 0,
  "metadata": {
    "colab": {
      "name": "Cópia de Aula 1 de python.ipynb",
      "provenance": [],
      "authorship_tag": "ABX9TyPh4c5F41LV+h+cQsk1rBT+",
      "include_colab_link": true
    },
    "kernelspec": {
      "name": "python3",
      "display_name": "Python 3"
    },
    "language_info": {
      "name": "python"
    }
  },
  "cells": [
    {
      "cell_type": "markdown",
      "metadata": {
        "id": "view-in-github",
        "colab_type": "text"
      },
      "source": [
        "<a href=\"https://colab.research.google.com/github/Arlindojulio/Banco/blob/master/TreiandoClasses.ipynb\" target=\"_parent\"><img src=\"https://colab.research.google.com/assets/colab-badge.svg\" alt=\"Open In Colab\"/></a>"
      ]
    },
    {
      "cell_type": "markdown",
      "metadata": {
        "id": "ylghyOaEgtjZ"
      },
      "source": [
        "#Aula 1 de python"
      ]
    },
    {
      "cell_type": "code",
      "metadata": {
        "colab": {
          "base_uri": "https://localhost:8080/"
        },
        "id": "JnJXVqKXUf0F",
        "outputId": "50a4aee1-e2d9-46b4-8cff-8ee21d078467"
      },
      "source": [
        "1"
      ],
      "execution_count": null,
      "outputs": [
        {
          "output_type": "execute_result",
          "data": {
            "text/plain": [
              "1"
            ]
          },
          "metadata": {},
          "execution_count": 1
        }
      ]
    },
    {
      "cell_type": "code",
      "metadata": {
        "colab": {
          "base_uri": "https://localhost:8080/"
        },
        "id": "Pr_zlDNqV1Sh",
        "outputId": "660cbcde-467c-4ba2-a936-7c14ea1f0d80"
      },
      "source": [
        "type(1)"
      ],
      "execution_count": null,
      "outputs": [
        {
          "output_type": "execute_result",
          "data": {
            "text/plain": [
              "int"
            ]
          },
          "metadata": {},
          "execution_count": 2
        }
      ]
    },
    {
      "cell_type": "code",
      "metadata": {
        "colab": {
          "base_uri": "https://localhost:8080/"
        },
        "id": "bZmEHb-MWovd",
        "outputId": "07e4d9b6-af6c-4ada-dd0c-2a63b928d724"
      },
      "source": [
        "43 / 7"
      ],
      "execution_count": null,
      "outputs": [
        {
          "output_type": "execute_result",
          "data": {
            "text/plain": [
              "6.142857142857143"
            ]
          },
          "metadata": {},
          "execution_count": 3
        }
      ]
    },
    {
      "cell_type": "code",
      "metadata": {
        "colab": {
          "base_uri": "https://localhost:8080/"
        },
        "id": "zTazP-PYWxcO",
        "outputId": "1adfb0d0-96f4-4d61-d08a-21cd7cdd124e"
      },
      "source": [
        "43 // 6"
      ],
      "execution_count": null,
      "outputs": [
        {
          "output_type": "execute_result",
          "data": {
            "text/plain": [
              "7"
            ]
          },
          "metadata": {},
          "execution_count": 4
        }
      ]
    },
    {
      "cell_type": "code",
      "metadata": {
        "colab": {
          "base_uri": "https://localhost:8080/"
        },
        "id": "6YS4JjaIW09d",
        "outputId": "1de0f776-7c6a-4145-ce61-74d4cef103aa"
      },
      "source": [
        "a = 43 // 6\n",
        "print (a)"
      ],
      "execution_count": null,
      "outputs": [
        {
          "output_type": "stream",
          "name": "stdout",
          "text": [
            "7\n"
          ]
        }
      ]
    },
    {
      "cell_type": "code",
      "metadata": {
        "colab": {
          "base_uri": "https://localhost:8080/"
        },
        "id": "vdoofO8tW8fV",
        "outputId": "7d94db11-51b8-4118-a14c-6f818139570f"
      },
      "source": [
        "a = 43 // 6\n",
        "print (a)\n",
        "type(a)"
      ],
      "execution_count": null,
      "outputs": [
        {
          "output_type": "stream",
          "name": "stdout",
          "text": [
            "7\n"
          ]
        },
        {
          "output_type": "execute_result",
          "data": {
            "text/plain": [
              "int"
            ]
          },
          "metadata": {},
          "execution_count": 6
        }
      ]
    },
    {
      "cell_type": "code",
      "metadata": {
        "colab": {
          "base_uri": "https://localhost:8080/"
        },
        "id": "wSI78e0kXCtN",
        "outputId": "ca1992f0-e075-46ad-8374-d41c1574d595"
      },
      "source": [
        "a = 43 / 6\n",
        "print (a)\n",
        "type(a)"
      ],
      "execution_count": null,
      "outputs": [
        {
          "output_type": "stream",
          "name": "stdout",
          "text": [
            "7.166666666666667\n"
          ]
        },
        {
          "output_type": "execute_result",
          "data": {
            "text/plain": [
              "float"
            ]
          },
          "metadata": {},
          "execution_count": 7
        }
      ]
    },
    {
      "cell_type": "code",
      "metadata": {
        "colab": {
          "base_uri": "https://localhost:8080/"
        },
        "id": "e4f2Nu_hauHG",
        "outputId": "6d00d7a1-0693-4c80-d069-2512b5546175"
      },
      "source": [
        "nome = ''' Arlindo\n",
        "Julio'''\n",
        "print(nome)"
      ],
      "execution_count": null,
      "outputs": [
        {
          "output_type": "stream",
          "name": "stdout",
          "text": [
            " Arlindo\n",
            "Julio\n"
          ]
        }
      ]
    },
    {
      "cell_type": "markdown",
      "metadata": {
        "id": "ak9rJIQsgi1q"
      },
      "source": [
        "# Desvios lógicos"
      ]
    },
    {
      "cell_type": "code",
      "metadata": {
        "colab": {
          "base_uri": "https://localhost:8080/"
        },
        "id": "kwl2llnBc42Y",
        "outputId": "2f44700f-86d4-43c0-8000-3d54eb1536fb"
      },
      "source": [
        "idade = 16\n",
        "if idade < 18:\n",
        "  print(f\"Menor de idade: {idade}\")\n",
        "elif idade >= 65:\n",
        "  print(f'Pessoa idosa: {idade} anos')\n",
        "else:\n",
        "  print(f\"Maior de idade: {idade}\")"
      ],
      "execution_count": null,
      "outputs": [
        {
          "output_type": "stream",
          "name": "stdout",
          "text": [
            "Menor de idade: 16\n"
          ]
        }
      ]
    },
    {
      "cell_type": "markdown",
      "metadata": {
        "id": "wp1_insfhV3m"
      },
      "source": [
        "## Funções\n"
      ]
    },
    {
      "cell_type": "code",
      "metadata": {
        "id": "3W1vRQrJhaIi"
      },
      "source": [
        "def classificar (idade, nome):\n",
        "  if idade < 18:\n",
        "    return f\"{nome} é menor de idade: {idade} anos\"\n",
        "  elif idade >= 65:\n",
        "    return f'{nome} é uma pessoa idosa: {idade} anos'\n",
        "  else:\n",
        "    return f\"{nome} é maior de idade: {idade} anos\""
      ],
      "execution_count": null,
      "outputs": []
    },
    {
      "cell_type": "code",
      "metadata": {
        "colab": {
          "base_uri": "https://localhost:8080/",
          "height": 35
        },
        "id": "itRfxL7li6kx",
        "outputId": "8b8a0551-d703-4898-ed83-9da8485948f1"
      },
      "source": [
        "classificar(31, 'Arlindo')"
      ],
      "execution_count": null,
      "outputs": [
        {
          "output_type": "execute_result",
          "data": {
            "application/vnd.google.colaboratory.intrinsic+json": {
              "type": "string"
            },
            "text/plain": [
              "'Arlindo é maior de idade: 31 anos'"
            ]
          },
          "metadata": {},
          "execution_count": 32
        }
      ]
    },
    {
      "cell_type": "code",
      "metadata": {
        "colab": {
          "base_uri": "https://localhost:8080/",
          "height": 35
        },
        "id": "HG3k4q_GjBU_",
        "outputId": "43fb1d4d-44c5-4197-8163-6057365795b3"
      },
      "source": [
        "classificar(15, 'Ana')"
      ],
      "execution_count": null,
      "outputs": [
        {
          "output_type": "execute_result",
          "data": {
            "application/vnd.google.colaboratory.intrinsic+json": {
              "type": "string"
            },
            "text/plain": [
              "'Ana é menor de idade: 15 anos'"
            ]
          },
          "metadata": {},
          "execution_count": 36
        }
      ]
    },
    {
      "cell_type": "code",
      "metadata": {
        "id": "F_isluLbwID2",
        "outputId": "1b5db64d-7cf3-414c-9985-584a2716242f",
        "colab": {
          "base_uri": "https://localhost:8080/"
        }
      },
      "source": [
        "print('=' * 10)"
      ],
      "execution_count": null,
      "outputs": [
        {
          "output_type": "stream",
          "name": "stdout",
          "text": [
            "==========\n"
          ]
        }
      ]
    },
    {
      "cell_type": "code",
      "source": [
        "class TreinandoClasses():\n",
        "    def __init__(self, v = 10, i = 1):\n",
        "        self.valor = v\n",
        "        self.incremento = i\n",
        "        self.valor_exponecial = v\n",
        "        \n",
        "    def incrementa(self):\n",
        "        self.valor += self.incremento\n",
        "        return self.valor\n",
        "    \n",
        "    def verifica(self):\n",
        "        if self.valor > 12:\n",
        "            print('Ultrapassou 12')\n",
        "        else:\n",
        "            print('Não ultrapassou 12')\n",
        "            \n",
        "    def funcao_exponecial(self, e):\n",
        "        self.valor_exponecial = self.valor**e\n",
        "        \n",
        "    def incrementa_quadrado(self):\n",
        "        self.incrementa()\n",
        "        self.funcao_exponecial(2)"
      ],
      "metadata": {
        "id": "9_E1zfY0zp6f"
      },
      "execution_count": null,
      "outputs": []
    },
    {
      "cell_type": "code",
      "source": [
        "a = TreinandoClasses(19)"
      ],
      "metadata": {
        "id": "fpmkaWrCzuSJ"
      },
      "execution_count": null,
      "outputs": []
    },
    {
      "cell_type": "code",
      "source": [
        "a.incrementa()"
      ],
      "metadata": {
        "colab": {
          "base_uri": "https://localhost:8080/"
        },
        "id": "z9YjTNE5zzn5",
        "outputId": "52fa2a02-0139-479c-f2d2-a350c741d0e7"
      },
      "execution_count": null,
      "outputs": [
        {
          "output_type": "execute_result",
          "data": {
            "text/plain": [
              "21"
            ]
          },
          "metadata": {},
          "execution_count": 33
        }
      ]
    },
    {
      "cell_type": "code",
      "source": [
        "a.valor"
      ],
      "metadata": {
        "colab": {
          "base_uri": "https://localhost:8080/"
        },
        "id": "siSxeTYEz-Sw",
        "outputId": "487c5289-9e06-4bad-d6f0-8804d07c7c8e"
      },
      "execution_count": null,
      "outputs": [
        {
          "output_type": "execute_result",
          "data": {
            "text/plain": [
              "21"
            ]
          },
          "metadata": {},
          "execution_count": 34
        }
      ]
    },
    {
      "cell_type": "code",
      "source": [
        "a.verifica()"
      ],
      "metadata": {
        "colab": {
          "base_uri": "https://localhost:8080/"
        },
        "id": "pSiEx8CP0Ap3",
        "outputId": "65a6c735-ed08-4244-ada0-fa0dd2513d9e"
      },
      "execution_count": null,
      "outputs": [
        {
          "output_type": "stream",
          "name": "stdout",
          "text": [
            "Ultrapassou 12\n"
          ]
        }
      ]
    },
    {
      "cell_type": "code",
      "source": [
        "a.funcao_exponecial(2)"
      ],
      "metadata": {
        "id": "uyFXIBEr0ZEA"
      },
      "execution_count": null,
      "outputs": []
    },
    {
      "cell_type": "code",
      "source": [
        "a.valor_exponecial"
      ],
      "metadata": {
        "colab": {
          "base_uri": "https://localhost:8080/"
        },
        "id": "LjjyWc3-0dAp",
        "outputId": "756732c2-436d-4651-efc3-e74602526a57"
      },
      "execution_count": null,
      "outputs": [
        {
          "output_type": "execute_result",
          "data": {
            "text/plain": [
              "529"
            ]
          },
          "metadata": {},
          "execution_count": 44
        }
      ]
    },
    {
      "cell_type": "code",
      "source": [
        "a.incrementa_quadrado()"
      ],
      "metadata": {
        "id": "xGrbDIHK0ySZ"
      },
      "execution_count": null,
      "outputs": []
    },
    {
      "cell_type": "code",
      "source": [
        "a.valor_exponecial"
      ],
      "metadata": {
        "colab": {
          "base_uri": "https://localhost:8080/"
        },
        "id": "L-WhyaiT4aaX",
        "outputId": "295812ab-40a5-4974-ddae-93cd2bd20950"
      },
      "execution_count": null,
      "outputs": [
        {
          "output_type": "execute_result",
          "data": {
            "text/plain": [
              "529"
            ]
          },
          "metadata": {},
          "execution_count": 45
        }
      ]
    },
    {
      "cell_type": "code",
      "source": [
        "class SubClasse(TreinandoClasses):\n",
        "  pass"
      ],
      "metadata": {
        "id": "JcZ0sW4f8deW"
      },
      "execution_count": null,
      "outputs": []
    },
    {
      "cell_type": "code",
      "source": [
        "c = SubClasse()"
      ],
      "metadata": {
        "id": "Cd7ZbbCV8nZO"
      },
      "execution_count": null,
      "outputs": []
    },
    {
      "cell_type": "code",
      "source": [
        "c.valor"
      ],
      "metadata": {
        "colab": {
          "base_uri": "https://localhost:8080/"
        },
        "id": "WA2ob4ud8r-G",
        "outputId": "00149e6a-146a-4a54-b045-a76278ab2f6b"
      },
      "execution_count": null,
      "outputs": [
        {
          "output_type": "execute_result",
          "data": {
            "text/plain": [
              "10"
            ]
          },
          "metadata": {},
          "execution_count": 55
        }
      ]
    },
    {
      "cell_type": "code",
      "source": [
        "c.incrementa()"
      ],
      "metadata": {
        "colab": {
          "base_uri": "https://localhost:8080/"
        },
        "id": "IwdMNRlj84OG",
        "outputId": "693f4f9f-ebe7-4340-b2ea-1744919907fd"
      },
      "execution_count": null,
      "outputs": [
        {
          "output_type": "execute_result",
          "data": {
            "text/plain": [
              "11"
            ]
          },
          "metadata": {},
          "execution_count": 56
        }
      ]
    },
    {
      "cell_type": "code",
      "source": [
        "class SubClasse(TreinandoClasses):\n",
        "  def decremento(self):\n",
        "    self.valor -= self.incremento\n",
        "    return self.valor"
      ],
      "metadata": {
        "id": "B94MxiO69V0g"
      },
      "execution_count": null,
      "outputs": []
    },
    {
      "cell_type": "code",
      "source": [
        "c = SubClasse(15,6)"
      ],
      "metadata": {
        "id": "uv8-SFIn9t9F"
      },
      "execution_count": null,
      "outputs": []
    },
    {
      "cell_type": "code",
      "source": [
        "c.decremento()"
      ],
      "metadata": {
        "colab": {
          "base_uri": "https://localhost:8080/"
        },
        "id": "7WbszdAg97lu",
        "outputId": "693a2e51-e1de-4585-8700-1a095df76ef3"
      },
      "execution_count": null,
      "outputs": [
        {
          "output_type": "execute_result",
          "data": {
            "text/plain": [
              "21"
            ]
          },
          "metadata": {},
          "execution_count": 70
        }
      ]
    },
    {
      "cell_type": "code",
      "source": [
        "c.incrementa()"
      ],
      "metadata": {
        "colab": {
          "base_uri": "https://localhost:8080/"
        },
        "id": "08rLG4H09_Oc",
        "outputId": "7934d75c-d1f6-41fe-8842-873564517be3"
      },
      "execution_count": null,
      "outputs": [
        {
          "output_type": "execute_result",
          "data": {
            "text/plain": [
              "27"
            ]
          },
          "metadata": {},
          "execution_count": 69
        }
      ]
    },
    {
      "cell_type": "code",
      "source": [
        "class SubClasse(TreinandoClasses):\n",
        "  def __init__(self, d = 5):\n",
        "    super().__init__(v = 10, i = 1)\n",
        "    self.divisor = d\n",
        "\n",
        "  def decremento(self):\n",
        "    self.valor -= self.incremento\n",
        "    return self.valor\n",
        "\n",
        "  def funcao_divisor(self):\n",
        "    self.valor = self.valor / self.divisor\n",
        "    return self.valor"
      ],
      "metadata": {
        "id": "G663hLwm_Bx1"
      },
      "execution_count": null,
      "outputs": []
    },
    {
      "cell_type": "code",
      "source": [
        "c = SubClasse()"
      ],
      "metadata": {
        "id": "9CKXcg_pAhnl"
      },
      "execution_count": null,
      "outputs": []
    },
    {
      "cell_type": "code",
      "source": [
        "c.incrementa()"
      ],
      "metadata": {
        "colab": {
          "base_uri": "https://localhost:8080/"
        },
        "id": "KSI1RokRAlDj",
        "outputId": "e3df6aa7-cae4-496c-9b31-03b5a8125d25"
      },
      "execution_count": null,
      "outputs": [
        {
          "output_type": "execute_result",
          "data": {
            "text/plain": [
              "11"
            ]
          },
          "metadata": {},
          "execution_count": 92
        }
      ]
    },
    {
      "cell_type": "code",
      "source": [
        "c.decremento()"
      ],
      "metadata": {
        "colab": {
          "base_uri": "https://localhost:8080/"
        },
        "id": "Ka74eZhqA1nV",
        "outputId": "5d87f7e9-0718-47e5-aaf1-445b7ee4111e"
      },
      "execution_count": null,
      "outputs": [
        {
          "output_type": "execute_result",
          "data": {
            "text/plain": [
              "9"
            ]
          },
          "metadata": {},
          "execution_count": 7
        }
      ]
    },
    {
      "cell_type": "code",
      "source": [
        "c.funcao_divisor()"
      ],
      "metadata": {
        "colab": {
          "base_uri": "https://localhost:8080/"
        },
        "id": "3vf6RRwBA5xr",
        "outputId": "ad96901b-2f97-4afe-c111-06b2c2ae3c27"
      },
      "execution_count": null,
      "outputs": [
        {
          "output_type": "execute_result",
          "data": {
            "text/plain": [
              "2.0"
            ]
          },
          "metadata": {},
          "execution_count": 94
        }
      ]
    },
    {
      "cell_type": "code",
      "source": [
        "c.valor"
      ],
      "metadata": {
        "colab": {
          "base_uri": "https://localhost:8080/"
        },
        "id": "9wTDiUYmBtW7",
        "outputId": "6e92ba1a-6931-4eb5-e62f-7a1574f2c175"
      },
      "execution_count": null,
      "outputs": [
        {
          "output_type": "execute_result",
          "data": {
            "text/plain": [
              "2.0"
            ]
          },
          "metadata": {},
          "execution_count": 95
        }
      ]
    },
    {
      "cell_type": "code",
      "source": [
        "c.verifica()"
      ],
      "metadata": {
        "colab": {
          "base_uri": "https://localhost:8080/"
        },
        "id": "loiuBNGQBzKE",
        "outputId": "3f94dd02-1619-4e99-ec33-03f502182449"
      },
      "execution_count": null,
      "outputs": [
        {
          "output_type": "stream",
          "name": "stdout",
          "text": [
            "Não ultrapassou 12\n"
          ]
        }
      ]
    },
    {
      "cell_type": "code",
      "source": [
        "c.incrementa_quadrado()"
      ],
      "metadata": {
        "id": "8lzqZMshB2Q1"
      },
      "execution_count": null,
      "outputs": []
    },
    {
      "cell_type": "code",
      "source": [
        "c.valor"
      ],
      "metadata": {
        "colab": {
          "base_uri": "https://localhost:8080/"
        },
        "id": "JRyEeTXYB5vM",
        "outputId": "b0cd3def-4925-4332-e3fd-841ae6f2db4e"
      },
      "execution_count": null,
      "outputs": [
        {
          "output_type": "execute_result",
          "data": {
            "text/plain": [
              "3.0"
            ]
          },
          "metadata": {},
          "execution_count": 98
        }
      ]
    }
  ]
}